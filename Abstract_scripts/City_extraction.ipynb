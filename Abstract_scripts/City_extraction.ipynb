{
 "cells": [
  {
   "cell_type": "code",
   "execution_count": 29,
   "metadata": {},
   "outputs": [],
   "source": [
    "import pandas as pd\n",
    "from Bio import Entrez\n",
    "import yaml"
   ]
  },
  {
   "cell_type": "code",
   "execution_count": 33,
   "metadata": {},
   "outputs": [
    {
     "name": "stdout",
     "output_type": "stream",
     "text": [
      "ListElement([DictElement({'AffiliationInfo': [{'Identifier': [], 'Affiliation': 'Melbourne School of Psychological Sciences.'}], 'Identifier': [], 'LastName': 'McNeill', 'ForeName': 'Ilona M', 'Initials': 'IM'}, attributes={'ValidYN': 'Y'}), DictElement({'AffiliationInfo': [{'Identifier': [], 'Affiliation': 'School of Psychology, University of Western Australia.'}], 'Identifier': [], 'LastName': 'Dunlop', 'ForeName': 'Patrick D', 'Initials': 'PD'}, attributes={'ValidYN': 'Y'})], attributes={'CompleteYN': 'Y'})\n"
     ]
    }
   ],
   "source": [
    "Entrez.email = 'sacrasticthinker@gmail.com'\n",
    "handle = Entrez.efetch(db='pubmed', id =26691505 , retmode ='xml')\n",
    "record = Entrez.read(handle)"
   ]
  },
  {
   "cell_type": "code",
   "execution_count": 54,
   "metadata": {},
   "outputs": [
    {
     "name": "stdout",
     "output_type": "stream",
     "text": [
      "Melbourne School of Psychological Sciences.\n",
      "School of Psychology, University of Western Australia.\n"
     ]
    }
   ],
   "source": [
    "\n",
    "# Navigate through the dictionary to get the affiliations\n",
    "author_list = record['PubmedArticle'][0]['MedlineCitation']['Article']['AuthorList']\n",
    "\n",
    "# Loop through each author and extract the places (countries, cities) from their affiliations\n",
    "for author in author_list:\n",
    "    affiliations = author.get('AffiliationInfo', [])\n",
    "    for affiliation in affiliations:\n",
    "        affiliation_text = affiliation.get('Affiliation', 'No Affiliation Found')\n",
    "        print(affiliation_text)\n"
   ]
  },
  {
   "cell_type": "code",
   "execution_count": null,
   "metadata": {},
   "outputs": [],
   "source": [
    "import spacy\n",
    "\n",
    "# Load the English language model\n",
    "nlp = spacy.load(\"en_core_web_sm\")\n",
    "\n",
    "# Your input string\n",
    "text = \"Melbourne School of Psychological Sciences.School of Psychology, University of Western Australia.\"\n",
    "\n",
    "# Process the text\n",
    "doc = nlp(text)\n",
    "\n",
    "# Extract cities and countries\n",
    "locations = [ent.text for ent in doc.ents if ent.label_ in [\"GPE\"]]\n",
    "\n",
    "print(locations)"
   ]
  }
 ],
 "metadata": {
  "kernelspec": {
   "display_name": ".venv",
   "language": "python",
   "name": "python3"
  },
  "language_info": {
   "codemirror_mode": {
    "name": "ipython",
    "version": 3
   },
   "file_extension": ".py",
   "mimetype": "text/x-python",
   "name": "python",
   "nbconvert_exporter": "python",
   "pygments_lexer": "ipython3",
   "version": "3.10.5"
  }
 },
 "nbformat": 4,
 "nbformat_minor": 2
}
