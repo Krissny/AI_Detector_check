{
 "cells": [
  {
   "cell_type": "code",
   "execution_count": null,
   "metadata": {},
   "outputs": [],
   "source": [
    "#⚠️⚠️CAUTION: This code needs to run only once to setup the Results file\n",
    "\n",
    "import pandas as pd\n",
    "import numpy as np\n",
    "\n",
    "df = pd.read_excel('./New_results.xlsx') # Change file name to Old_results.xlsx for old abstracts\n",
    "df = df.dropna(axis = 0, ignore_index=True)\n",
    "df['Sapling'] = ''\n",
    "df.to_excel(\"Results_New.xlsx\") # Change file name to Results_Old.xlsx for old abstracts results"
   ]
  },
  {
   "cell_type": "code",
   "execution_count": null,
   "metadata": {},
   "outputs": [],
   "source": [
    "#function to extract data from AI detection site\n",
    "\n",
    "from selenium import webdriver\n",
    "from selenium.webdriver.common.keys import Keys\n",
    "from selenium.webdriver.common.by import By\n",
    "import pandas as pd\n",
    "import numpy as np;\n",
    "import time\n",
    "import re\n",
    "\n",
    "driver = webdriver.Chrome()\n",
    "driver.get(\"https://sapling.ai/ai-content-detector\")\n",
    "\n",
    "elem = driver.find_element(By.ID, \"content-editor\")\n",
    "\n",
    "df = pd.read_excel('./Results.xlsx')\n",
    "df = df.dropna(axis = 0 , ignore_index=False , subset= 'Abstract')\n",
    "\n",
    "# HTML tags removal from abstract\n",
    "def remove_html_tags(text):\n",
    "    clean = re.compile('<.*?>')  # Compile the regex pattern for HTML tags\n",
    "    return re.sub(clean, '', text)\n",
    "\n",
    "df['Abstract'] = df[\"Abstract\"].apply(remove_html_tags)\n",
    "\n",
    "# Main function\n",
    "def ai_text_score(text):\n",
    "    elem.clear()\n",
    "    elem.send_keys(text)\n",
    "    time.sleep(5)\n",
    "    res = driver.find_element(By.ID, \"fake-prob\")\n",
    "    error = driver.find_element(By.ID , 'p-error')\n",
    "    while res.text ==\"\" or res.text == \"...\": # if results are still loading\n",
    "        if error.is_displayed(): # if some error is encountered, the driver will reopen the browser\n",
    "            driver.close()\n",
    "            driver.get(\"https://sapling.ai/ai-content-detector\")\n",
    "        time.sleep(5)\n",
    "        res = driver.find_element(By.ID, \"fake-prob\")\n",
    "    return res.text\n",
    "\n",
    "# Last index till which the function should run\n",
    "index = 50\n",
    "\n",
    "for ind in df.index:\n",
    "    if pd.isnull(df['Sapling'][ind]):\n",
    "        df['Sapling'][ind]= ai_text_score(df['Abstract'][ind])\n",
    "    \n",
    "    if ind == index:\n",
    "        break\n",
    "\n",
    "driver.close()\n",
    "df.to_excel(\"Results.xlsx\", index = False)"
   ]
  }
 ],
 "metadata": {
  "kernelspec": {
   "display_name": "Python 3",
   "language": "python",
   "name": "python3"
  },
  "language_info": {
   "codemirror_mode": {
    "name": "ipython",
    "version": 3
   },
   "file_extension": ".py",
   "mimetype": "text/x-python",
   "name": "python",
   "nbconvert_exporter": "python",
   "pygments_lexer": "ipython3",
   "version": "3.10.5"
  }
 },
 "nbformat": 4,
 "nbformat_minor": 2
}
