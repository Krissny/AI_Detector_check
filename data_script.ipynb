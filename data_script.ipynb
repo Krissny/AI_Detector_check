{
 "cells": [
  {
   "cell_type": "markdown",
   "metadata": {},
   "source": [
    "#### Imports"
   ]
  },
  {
   "cell_type": "code",
   "execution_count": 1,
   "metadata": {},
   "outputs": [],
   "source": [
    "import pandas as pd\n",
    "from Bio import Entrez"
   ]
  },
  {
   "cell_type": "code",
   "execution_count": null,
   "metadata": {},
   "outputs": [],
   "source": [
    "Entrez.email = \"example@gmail.com\"\n",
    "date_range = '(\"2012/03/01\"[Date - Create] : \"2015/12/31\"[Date - Create])'\n",
    "Entrez.api_key = \"api_key\""
   ]
  },
  {
   "cell_type": "markdown",
   "metadata": {},
   "source": [
    "### Checking the number of records available for our query"
   ]
  },
  {
   "cell_type": "code",
   "execution_count": null,
   "metadata": {},
   "outputs": [],
   "source": [
    "full_query = date_range\n",
    "handle = Entrez.esearch(db = 'pubmed', retmax = 1000, term = full_query)\n",
    "record = Entrez.read(handle)\n",
    "id_list = record[\"IdList\"]\n",
    "print(record['Count'])"
   ]
  },
  {
   "cell_type": "markdown",
   "metadata": {},
   "source": [
    "### Creating a pandas dataframe and inserting the records with their PMID, abstracts and the date of completion"
   ]
  },
  {
   "cell_type": "code",
   "execution_count": null,
   "metadata": {},
   "outputs": [],
   "source": [
    "df = pd.DataFrame(columns = [\"PMID\", \"Abstract\", \"Date\"])\n",
    "\n",
    "for pmid in id_list:\n",
    "    handle = Entrez.efetch(db = \"pubmed\", id = pmid, retmode = \"xml\")\n",
    "    records = Entrez.read(handle)\n",
    "    \n",
    "    for record in records[\"PubmedArticle\"]:\n",
    "        pmid = record[\"MedlineCitation\"][\"PMID\"]\n",
    "\n",
    "        if \"Abstract\" in record[\"MedlineCitation\"][\"Article\"] and \"AbstractText\" in record[\"MedlineCitation\"][\"Article\"][\"Abstract\"]:\n",
    "            abstract = \"\".join(record[\"MedlineCitation\"][\"Article\"][\"Abstract\"][\"AbstractText\"])\n",
    "        else:\n",
    "            abstract = \"\"\n",
    "        if \"DateCompleted\" in record[\"MedlineCitation\"]:\n",
    "            date = record[\"MedlineCitation\"][\"DateCompleted\"][\"Year\"]\n",
    "        else:\n",
    "            date = record[\"MedlineCitation\"][\"Article\"][\"Journal\"][\"JournalIssue\"][\"PubDate\"][\"Year\"]\n",
    "\n",
    "        new_row = pd.DataFrame({\n",
    "            'PMID' : [pmid],\n",
    "            \"Abstract\" : [abstract],\n",
    "            \"Date\" : [date]\n",
    "        })\n",
    "\n",
    "        df = pd.concat([df, new_row], ignore_index = True)"
   ]
  },
  {
   "cell_type": "markdown",
   "metadata": {},
   "source": [
    "### Converting the dataframe to excel file"
   ]
  },
  {
   "cell_type": "code",
   "execution_count": null,
   "metadata": {},
   "outputs": [],
   "source": [
    "df.to_excel(\"pubmed_results.xlsx\", index = False)"
   ]
  }
 ],
 "metadata": {
  "kernelspec": {
   "display_name": "NewEnv",
   "language": "python",
   "name": "python3"
  },
  "language_info": {
   "codemirror_mode": {
    "name": "ipython",
    "version": 3
   },
   "file_extension": ".py",
   "mimetype": "text/x-python",
   "name": "python",
   "nbconvert_exporter": "python",
   "pygments_lexer": "ipython3",
   "version": "3.12.4"
  }
 },
 "nbformat": 4,
 "nbformat_minor": 2
}
